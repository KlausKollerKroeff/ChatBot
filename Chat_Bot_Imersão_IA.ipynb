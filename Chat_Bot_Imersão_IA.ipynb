{
  "nbformat": 4,
  "nbformat_minor": 0,
  "metadata": {
    "colab": {
      "provenance": [],
      "authorship_tag": "ABX9TyMLM0QSZZoABIQZEm4ZwuXD",
      "include_colab_link": true
    },
    "kernelspec": {
      "name": "python3",
      "display_name": "Python 3"
    },
    "language_info": {
      "name": "python"
    }
  },
  "cells": [
    {
      "cell_type": "markdown",
      "metadata": {
        "id": "view-in-github",
        "colab_type": "text"
      },
      "source": [
        "<a href=\"https://colab.research.google.com/github/KlausKollerKroeff/ChatBot/blob/main/Chat_Bot_Imers%C3%A3o_IA.ipynb\" target=\"_parent\"><img src=\"https://colab.research.google.com/assets/colab-badge.svg\" alt=\"Open In Colab\"/></a>"
      ]
    },
    {
      "cell_type": "code",
      "execution_count": null,
      "metadata": {
        "id": "4ZDo3E1cVFZC"
      },
      "outputs": [],
      "source": [
        "!pip install -q -U google-generativeai"
      ]
    },
    {
      "cell_type": "code",
      "source": [
        "# Import the Python SDK, and renaming him as gemini\n",
        "import google.generativeai as genai\n",
        "# Used to securely store your API key\n",
        "from google.colab import userdata\n",
        "\n",
        "api_key = userdata.get(\"Secret_Key\")\n",
        "\n",
        "genai.configure(api_key=api_key)\n"
      ],
      "metadata": {
        "id": "sqkl1VeCVzkX"
      },
      "execution_count": 1,
      "outputs": []
    },
    {
      "cell_type": "code",
      "source": [
        "generation_config = {\n",
        "    'temperature': 0.5,\n",
        "    'candidate_count': 1,\n",
        "}"
      ],
      "metadata": {
        "id": "BlajWo-5YMrb"
      },
      "execution_count": 2,
      "outputs": []
    },
    {
      "cell_type": "code",
      "source": [
        "# Corrected the typo in the safety_settings dictionary\n",
        "safety_settings = {\n",
        "    \"harassment\": \"Block_None\",\n",
        "    \"hate\": \"Block_None\",\n",
        "    \"sexual\": \"Block_None\",\n",
        "    \"dangerous\": \"Block_None\",  # Corrected the typo here\n",
        "}"
      ],
      "metadata": {
        "id": "i-qrbjq0aapc"
      },
      "execution_count": 3,
      "outputs": []
    },
    {
      "cell_type": "code",
      "source": [
        "model = genai.GenerativeModel(model_name=\"gemini-1.0-pro\",\n",
        "                              generation_config=generation_config,\n",
        "                              safety_settings=safety_settings)"
      ],
      "metadata": {
        "id": "kFIZGslRX_2L"
      },
      "execution_count": 4,
      "outputs": []
    },
    {
      "cell_type": "code",
      "source": [
        "chat = model.start_chat(history=[])"
      ],
      "metadata": {
        "id": "b9g2x5tFjEc-"
      },
      "execution_count": 5,
      "outputs": []
    },
    {
      "cell_type": "code",
      "source": [
        "prompt = input(\"Aguardando prompt: \")\n",
        "\n",
        "while prompt != \"fim\":\n",
        "    responce = chat.send_message(prompt)\n",
        "    print(\"Resposta: \",responce.text, \"\\n\", \"\\n\", \"Espero que tenha ajudado :)\", \"\\n\")\n",
        "    prompt = input(\"Aguardando prompt: \")\n",
        "print(\"Fim do chat.\")"
      ],
      "metadata": {
        "colab": {
          "base_uri": "https://localhost:8080/",
          "height": 412
        },
        "id": "8v_sYdxEjmmv",
        "outputId": "459639ee-d4b9-4ad0-c2fd-467ba52b7000"
      },
      "execution_count": 6,
      "outputs": [
        {
          "output_type": "stream",
          "name": "stdout",
          "text": [
            "Aguardando prompt: Write a story about a magic broom!\n",
            "Resposta:  In the quaint village of Willow Creek, nestled amidst rolling hills and whispering willows, there lived an extraordinary broom named Celeste. Unlike ordinary brooms, Celeste possessed a remarkable secret: she was imbued with the power of magic.\n",
            "\n",
            "Her bristles, crafted from the finest moonlit willow, shimmered with an ethereal glow. Her handle, carved from ancient oak, pulsed with a gentle warmth that seemed to whisper ancient secrets. And her dustpan, made of polished silver, held the ability to capture and contain the most elusive of magical energies.\n",
            "\n",
            "One fateful evening, as the villagers gathered for their annual harvest festival, a mischievous imp named Prankster stole the precious Golden Acorn, the symbol of Willow Creek's prosperity. The villagers were distraught, fearing that without it, their crops would wither and their livelihoods would be lost.\n",
            "\n",
            "Word of the theft spread to Celeste, and her heart filled with determination. She knew she had to use her magic to restore the Golden Acorn to its rightful place. With a gentle swish of her bristles, she summoned a whirlwind that carried her through the air.\n",
            "\n",
            "As she soared over the rooftops, Celeste's keen eyes spotted Prankster hiding in the belfry of the village church. With a swift maneuver, she swooped down and confronted the imp. A magical duel ensued, sparks of light and bolts of energy flying through the air.\n",
            "\n",
            "Celeste's bristles danced with precision, deflecting Prankster's mischievous spells. Her dustpan trapped his illusions, rendering him powerless. Finally, with a triumphant sweep, she disarmed Prankster and retrieved the stolen Golden Acorn.\n",
            "\n",
            "Overjoyed, the villagers hailed Celeste as their savior. She had not only restored their prosperity but had also proven that even the most ordinary of objects could possess extraordinary power when imbued with magic.\n",
            "\n",
            "From that day forward, Celeste became a legend in Willow Creek. She continued to use her magic to protect the villagers and ensure their well-being. And as the years passed, the story of the magic broom who saved the Golden Acorn was passed down through generations, inspiring wonder and belief in the hearts of all who heard it. \n",
            " \n",
            " Espero que tenha ajudado :) \n",
            "\n",
            "Aguardando prompt: fim\n",
            "Fim do chat.\n"
          ]
        }
      ]
    },
    {
      "cell_type": "code",
      "source": [],
      "metadata": {
        "id": "q0mK5ObqlBGl"
      },
      "execution_count": null,
      "outputs": []
    }
  ]
}